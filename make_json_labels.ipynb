{
 "cells": [
  {
   "cell_type": "code",
   "execution_count": 1,
   "id": "ffa10da5-9f5c-4cb9-a17d-f7d14d17369a",
   "metadata": {},
   "outputs": [],
   "source": [
    "import os\n",
    "import random\n",
    "import json"
   ]
  },
  {
   "cell_type": "code",
   "execution_count": 2,
   "id": "ae7225ff-e6a4-4004-b6f1-b36120a87a47",
   "metadata": {},
   "outputs": [],
   "source": [
    "data_dict = {}\n",
    "data_dict['labels'] = []\n",
    "label_counter = 0"
   ]
  },
  {
   "cell_type": "code",
   "execution_count": 3,
   "id": "3abc685f-b793-4c6c-8a4a-99d277ae79cc",
   "metadata": {},
   "outputs": [],
   "source": [
    "input_folder = '/notebooks/data80k/'"
   ]
  },
  {
   "cell_type": "code",
   "execution_count": 4,
   "id": "04f8a6d7-483b-4f8c-8738-295ca00d1560",
   "metadata": {
    "tags": []
   },
   "outputs": [],
   "source": [
    "with open(os.path.join(input_folder, 'dataset.json'), 'w') as outfile:\n",
    "\n",
    "    for root, subdirs, files in os.walk(input_folder):\n",
    "        if len(subdirs) > 0:\n",
    "            base_dir = root\t\n",
    "            continue\n",
    "\n",
    "        current_subdir = os.path.split(root)[1]\n",
    "\n",
    "        for filename in files:\n",
    "            file_path = os.path.join(current_subdir, filename)\n",
    "            #print('\\t- file %s (full path: %s)' % (filename, file_path))\n",
    "            data_dict['labels'].append([file_path, label_counter])\n",
    "\n",
    "        label_counter += 1\n",
    "\n",
    "    json.dump(data_dict, outfile)"
   ]
  }
 ],
 "metadata": {
  "kernelspec": {
   "display_name": "Python 3 (ipykernel)",
   "language": "python",
   "name": "python3"
  },
  "language_info": {
   "codemirror_mode": {
    "name": "ipython",
    "version": 3
   },
   "file_extension": ".py",
   "mimetype": "text/x-python",
   "name": "python",
   "nbconvert_exporter": "python",
   "pygments_lexer": "ipython3",
   "version": "3.9.16"
  }
 },
 "nbformat": 4,
 "nbformat_minor": 5
}
