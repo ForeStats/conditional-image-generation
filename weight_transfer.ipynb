{
 "cells": [
  {
   "cell_type": "code",
   "execution_count": 1,
   "id": "36d779c7-ad6e-4d0c-94e4-937024192851",
   "metadata": {
    "execution": {
     "iopub.execute_input": "2023-10-16T10:11:51.044692Z",
     "iopub.status.busy": "2023-10-16T10:11:51.043910Z",
     "iopub.status.idle": "2023-10-16T10:11:51.057114Z",
     "shell.execute_reply": "2023-10-16T10:11:51.056500Z",
     "shell.execute_reply.started": "2023-10-16T10:11:51.044664Z"
    }
   },
   "outputs": [],
   "source": [
    "import pickle\n",
    "\n",
    "def percent(current, total):\n",
    "\tif current == 0 or total == 0: return 0\n",
    "\telse:\n",
    "\t\tperc = current/(total/100.0)\n",
    "\t\treturn float(\"%.2f\"%perc)\n",
    "\n",
    "class WeightTransfer():\n",
    "\tdef __init__(self, srcPath, destPath, useSubnets=[\"G\",\"G_ema\",\"D\"], transferMapping=True):\n",
    "\t\tself.srcPath, self.destPath = srcPath, destPath\n",
    "\t\tself.useSubnets, self.transferMapping = useSubnets, transferMapping\n",
    "\t\tself.allSubnets = [\"D\",\"G\",\"G_ema\"]\n",
    "\t\tself.pickles = None\n",
    "\n",
    "\tdef transfer(self, outPath):\n",
    "\t\tif self.pickles == None: self.loadPickles()\n",
    "\t\tmapping = self.findMapping(self.pickles)\n",
    "\t\tcount, mappedCount, saveData = 0, 0, {}\n",
    "\t\tfor subNet in mapping:\n",
    "\t\t\tsrcState, destState = self.pickles[\"src\"][subNet].state_dict(), self.pickles[\"dest\"][subNet].state_dict()\n",
    "\t\t\tfor param in mapping[subNet]:\n",
    "\t\t\t\tm = mapping[subNet][param]\n",
    "\t\t\t\tcount+=1\n",
    "\t\t\t\tif m != None:\n",
    "\t\t\t\t\tdestState[m] = srcState[param]\n",
    "\t\t\t\t\tmappedCount+=1\n",
    "\t\t\tself.pickles[\"dest\"][subNet].load_state_dict(destState)\t\t\n",
    "\t\tprint(\"Transferred\",mappedCount,\"/\",count,\"parameters (\",percent(mappedCount,count),\"%)\")\n",
    "\t\tfor subNet in self.allSubnets: saveData[subNet] = self.pickles[\"dest\"][subNet]\n",
    "\t\twith open(outPath, 'wb') as f: pickle.dump(saveData, f)\n",
    "\n",
    "\tdef findMapping(self, pickles):\n",
    "\t\tresult = {}\n",
    "\t\tfor subNet in self.useSubnets:\n",
    "\t\t\tsrcParams, destParams = pickles[\"src\"][subNet+\"_params\"], pickles[\"dest\"][subNet+\"_params\"]\n",
    "\t\t\tsrcState, destState = pickles[\"src\"][subNet].state_dict(), pickles[\"dest\"][subNet].state_dict()\n",
    "\t\t\tresult[subNet] = {}\n",
    "\t\t\tfor paramName in srcParams:\n",
    "\t\t\t\tif paramName in destParams and srcState[paramName].shape == destState[paramName].shape: result[subNet][paramName] = paramName\n",
    "\t\t\t\telse: result[subNet][paramName] = None\n",
    "\t\treturn result\n",
    "\n",
    "\tdef loadPickles(self):\n",
    "\t\tif self.pickles == None:\n",
    "\t\t\tself.pickles = {}\n",
    "\t\t\tfor key, pklFile in [(\"src\",self.srcPath),(\"dest\",self.destPath)]:\n",
    "\t\t\t\tself.pickles[key] = {\"picklePath\":pklFile}\n",
    "\t\t\t\twith open(pklFile,\"rb\") as f: \n",
    "\t\t\t\t\tpkl = pickle.load(f)\n",
    "\t\t\t\t\tself.pickles[key][\"res\"] = pkl[\"G\"].__dict__[\"img_resolution\"]\n",
    "\t\t\t\t\tfor subNet in self.allSubnets:\n",
    "\t\t\t\t\t\tself.pickles[key][subNet] = pkl[subNet]\n",
    "\t\t\t\t\t\tself.pickles[key][subNet+\"_params\"] = list(name for name,weight in pkl[subNet].named_parameters())"
   ]
  },
  {
   "cell_type": "code",
   "execution_count": 2,
   "id": "5003d33e-c4f7-417e-a19e-48ccadc06e53",
   "metadata": {
    "execution": {
     "iopub.execute_input": "2023-10-16T10:11:55.382451Z",
     "iopub.status.busy": "2023-10-16T10:11:55.382188Z",
     "iopub.status.idle": "2023-10-16T10:11:58.190088Z",
     "shell.execute_reply": "2023-10-16T10:11:58.189363Z",
     "shell.execute_reply.started": "2023-10-16T10:11:55.382430Z"
    }
   },
   "outputs": [
    {
     "name": "stdout",
     "output_type": "stream",
     "text": [
      "Transferred 254 / 258 parameters ( 98.45 %)\n"
     ]
    }
   ],
   "source": [
    "wt = WeightTransfer(\"/notebooks/training-runs/network-unconditional.pkl\", \n",
    "                    \"/notebooks/training-runs/network-snapshot-000001.pkl\")\n",
    "wt.transfer(\"/notebooks/training-runs/cond-weightTransferResume.pkl\")"
   ]
  }
 ],
 "metadata": {
  "kernelspec": {
   "display_name": "Python 3 (ipykernel)",
   "language": "python",
   "name": "python3"
  },
  "language_info": {
   "codemirror_mode": {
    "name": "ipython",
    "version": 3
   },
   "file_extension": ".py",
   "mimetype": "text/x-python",
   "name": "python",
   "nbconvert_exporter": "python",
   "pygments_lexer": "ipython3",
   "version": "3.9.16"
  }
 },
 "nbformat": 4,
 "nbformat_minor": 5
}
