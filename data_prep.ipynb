{
 "cells": [
  {
   "cell_type": "code",
   "execution_count": 1,
   "id": "c384d894-177f-49e9-a51b-9c86b8121ecf",
   "metadata": {},
   "outputs": [
    {
     "name": "stdout",
     "output_type": "stream",
     "text": [
      "\u001b[33mWARNING: Running pip as the 'root' user can result in broken permissions and conflicting behaviour with the system package manager. It is recommended to use a virtual environment instead: https://pip.pypa.io/warnings/venv\u001b[0m\u001b[33m\n",
      "\u001b[0m"
     ]
    }
   ],
   "source": [
    "!pip install -U --no-cache-dir gdown --pre --q\n",
    "\n",
    "import gdown\n",
    "import shutil\n",
    "import zipfile"
   ]
  },
  {
   "cell_type": "code",
   "execution_count": 2,
   "id": "5e438a16-a7d1-456f-8b46-aaea92f4ab0f",
   "metadata": {},
   "outputs": [
    {
     "name": "stderr",
     "output_type": "stream",
     "text": [
      "Downloading...\n",
      "From (uriginal): https://drive.google.com/uc?id=1r1XOo3Y5yCeozz8wx9dd1Rirnx6BaZsS\n",
      "From (redirected): https://drive.google.com/uc?id=1r1XOo3Y5yCeozz8wx9dd1Rirnx6BaZsS&confirm=t&uuid=c21a0744-1d8d-4992-b334-1841f728afd9\n",
      "To: /notebooks/data80k.zip\n",
      "100%|██████████| 746M/746M [00:09<00:00, 78.5MB/s] \n"
     ]
    },
    {
     "data": {
      "text/plain": [
       "'/notebooks/data80k.zip'"
      ]
     },
     "execution_count": 2,
     "metadata": {},
     "output_type": "execute_result"
    }
   ],
   "source": [
    "#https://drive.google.com/file/d/1r1XOo3Y5yCeozz8wx9dd1Rirnx6BaZsS/view?usp=sharing\n",
    "id = \"1r1XOo3Y5yCeozz8wx9dd1Rirnx6BaZsS\"\n",
    "output = '/notebooks/data80k.zip'\n",
    "gdown.download(id=id, output=output, quiet=False)"
   ]
  },
  {
   "cell_type": "code",
   "execution_count": 3,
   "id": "d854382f-ff10-4803-b916-96f7c9c4bc99",
   "metadata": {},
   "outputs": [],
   "source": [
    "with zipfile.ZipFile('/notebooks/data80k.zip', 'r') as zip_ref:\n",
    "    zip_ref.extractall('/notebooks')"
   ]
  },
  {
   "cell_type": "code",
   "execution_count": 6,
   "id": "7046546f-7058-4ec3-87b6-d708db11da25",
   "metadata": {},
   "outputs": [
    {
     "name": "stdout",
     "output_type": "stream",
     "text": [
      "rm: cannot remove 'data80k.zip': No such file or directory\n"
     ]
    }
   ],
   "source": [
    "!rm -rf data80k/__MACOSX\n",
    "!rm -rf data80k/.DS_Store\n",
    "!rm data80k.zip\n",
    "!rm -rf `find -type d -name .ipynb_checkpoints`\n",
    "!rm -rf `find . -name .DS_Store`"
   ]
  },
  {
   "cell_type": "code",
   "execution_count": 1,
   "id": "8c3dac45-e3c2-4579-9cd8-2ff149994077",
   "metadata": {},
   "outputs": [],
   "source": [
    "# Run Make JSON LABELS\n",
    "import os\n",
    "import random\n",
    "import json\n",
    "\n",
    "data_dict = {}\n",
    "data_dict['labels'] = []\n",
    "label_counter = 0\n",
    "\n",
    "#input_folder = 'data/'\n",
    "input_folder = '/Users/santhoshnarayanan/Documents/Turing/GPU/SynthData/data/'\n",
    "\n",
    "with open(os.path.join(input_folder, 'dataset.json'), 'w') as outfile:\n",
    "\n",
    "    for root, subdirs, files in os.walk(input_folder):\n",
    "        if len(subdirs) > 0:\n",
    "            base_dir = root\t\n",
    "            continue\n",
    "\n",
    "        current_subdir = os.path.split(root)[1]\n",
    "\n",
    "        for filename in files:\n",
    "            file_path = os.path.join(current_subdir, filename)\n",
    "            #print('\\t- file %s (full path: %s)' % (filename, file_path))\n",
    "            data_dict['labels'].append([file_path, label_counter])\n",
    "\n",
    "        label_counter += 1\n",
    "\n",
    "    json.dump(data_dict, outfile)"
   ]
  },
  {
   "cell_type": "code",
   "execution_count": 2,
   "id": "3439e545-327f-424d-8a5d-8e1e28e94f0a",
   "metadata": {},
   "outputs": [
    {
     "name": "stdout",
     "output_type": "stream",
     "text": [
      "dataset_tool.py:205: DeprecationWarning: BOX is deprecated and will be removed in Pillow 10 (2023-07-01). Use Resampling.BOX instead.\n",
      "  resample = { 'box': PIL.Image.BOX, 'lanczos': PIL.Image.LANCZOS }[resize_filter]\n",
      "dataset_tool.py:205: DeprecationWarning: LANCZOS is deprecated and will be removed in Pillow 10 (2023-07-01). Use Resampling.LANCZOS instead.\n",
      "  resample = { 'box': PIL.Image.BOX, 'lanczos': PIL.Image.LANCZOS }[resize_filter]\n",
      "100%|████████████████████████████████████| 80000/80000 [06:45<00:00, 197.19it/s]\n"
     ]
    }
   ],
   "source": [
    "!python dataset_tool.py --source=/Users/santhoshnarayanan/Documents/Turing/GPU/SynthData/data/ --dest=/Users/santhoshnarayanan/Documents/Github/stylegan2-ada-pytorch/datasets/faces80k256.zip --transform=center-crop --width=256 --height=256"
   ]
  }
 ],
 "metadata": {
  "kernelspec": {
   "display_name": "Python 3 (ipykernel)",
   "language": "python",
   "name": "python3"
  },
  "language_info": {
   "codemirror_mode": {
    "name": "ipython",
    "version": 3
   },
   "file_extension": ".py",
   "mimetype": "text/x-python",
   "name": "python",
   "nbconvert_exporter": "python",
   "pygments_lexer": "ipython3",
   "version": "3.8.5"
  }
 },
 "nbformat": 4,
 "nbformat_minor": 5
}
