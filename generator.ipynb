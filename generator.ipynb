{
 "cells": [
  {
   "cell_type": "code",
   "execution_count": 1,
   "id": "8ffc743b-cc9c-410f-80bc-ed6ca92f6e91",
   "metadata": {
    "execution": {
     "iopub.execute_input": "2023-09-21T17:16:08.797877Z",
     "iopub.status.busy": "2023-09-21T17:16:08.797316Z",
     "iopub.status.idle": "2023-09-21T17:16:11.322289Z",
     "shell.execute_reply": "2023-09-21T17:16:11.321473Z",
     "shell.execute_reply.started": "2023-09-21T17:16:08.797850Z"
    },
    "tags": []
   },
   "outputs": [
    {
     "name": "stdout",
     "output_type": "stream",
     "text": [
      "\u001b[33mWARNING: Running pip as the 'root' user can result in broken permissions and conflicting behaviour with the system package manager. It is recommended to use a virtual environment instead: https://pip.pypa.io/warnings/venv\u001b[0m\u001b[33m\n",
      "\u001b[0m"
     ]
    }
   ],
   "source": [
    "!pip install ninja -q"
   ]
  },
  {
   "cell_type": "code",
   "execution_count": 2,
   "id": "9ab69890-adc7-426a-a641-3db0f4e3c402",
   "metadata": {
    "execution": {
     "iopub.execute_input": "2023-09-21T17:16:15.138826Z",
     "iopub.status.busy": "2023-09-21T17:16:15.138185Z",
     "iopub.status.idle": "2023-09-21T17:16:16.554083Z",
     "shell.execute_reply": "2023-09-21T17:16:16.553335Z",
     "shell.execute_reply.started": "2023-09-21T17:16:15.138793Z"
    },
    "tags": []
   },
   "outputs": [],
   "source": [
    "import torch\n",
    "import dnnlib\n",
    "import numpy as np\n",
    "import matplotlib.pyplot as plt\n",
    "import legacy\n",
    "import ninja\n",
    "\n",
    "device = torch.device('cuda')\n",
    "pkl_path = '/notebooks/training-runs/00006-faces80k256-cond-paper256-batch256-ada-target0.5-resumecustom/network-snapshot-001433.pkl'"
   ]
  },
  {
   "cell_type": "code",
   "execution_count": 3,
   "id": "f0d564b4-ae37-467f-aea7-b3e5400b5eb2",
   "metadata": {
    "execution": {
     "iopub.execute_input": "2023-09-21T17:16:18.513605Z",
     "iopub.status.busy": "2023-09-21T17:16:18.512709Z",
     "iopub.status.idle": "2023-09-21T17:16:24.159646Z",
     "shell.execute_reply": "2023-09-21T17:16:24.158617Z",
     "shell.execute_reply.started": "2023-09-21T17:16:18.513572Z"
    }
   },
   "outputs": [],
   "source": [
    "with dnnlib.util.open_url(pkl_path) as f:\n",
    "    G = legacy.load_network_pkl(f)['G'].to(device)# torch.nn.Module"
   ]
  },
  {
   "cell_type": "code",
   "execution_count": null,
   "id": "94aac361-96c2-4912-9788-e36be368c01f",
   "metadata": {},
   "outputs": [],
   "source": [
    "plt.figure(figsize=(15,24)) # specifying the overall grid size\n",
    "\n",
    "for j in range(8):\n",
    "    c = torch.zeros([1, G.c_dim], device = device)\n",
    "    c[:, j] = 1\n",
    "    \n",
    "    for i in range(5):\n",
    "        z = torch.randn([1, G.z_dim], device = device) \n",
    "        img = G(z, c)\n",
    "        img = (img.permute(0, 2, 3, 1) * 127.5 + 128).clamp(0, 255).to(torch.uint8)\n",
    "        plt.subplot(8,5,5*j+i+1) \n",
    "        plt.imshow(img[0].cpu().numpy())\n",
    "\n",
    "plt.show()"
   ]
  },
  {
   "cell_type": "code",
   "execution_count": 5,
   "id": "9db8c150-7fb8-4e3e-9d00-b6044eec2fdf",
   "metadata": {},
   "outputs": [],
   "source": [
    "with dnnlib.util.open_url(pkl_path) as f:\n",
    "    G = legacy.load_network_pkl(f)['G'].to(device)# torch.nn.Module\n",
    "with dnnlib.util.open_url(pkl_path) as f:\n",
    "    D = legacy.load_network_pkl(f)['D'].to(device)# torch.nn.Module"
   ]
  },
  {
   "cell_type": "code",
   "execution_count": 146,
   "id": "973f5b43-3cb2-4d5c-b647-b98808469577",
   "metadata": {},
   "outputs": [],
   "source": [
    "d_array = np.array([0.0])\n",
    "\n",
    "for j in range(100):\n",
    "    c = torch.zeros([1, G.c_dim], device = device)\n",
    "    c[:, 1] = 1\n",
    "    \n",
    "    z = torch.randn([1, G.z_dim], device = device) \n",
    "    img = G(z, c)\n",
    "    \n",
    "    c = torch.zeros([1, G.c_dim], device = device)\n",
    "    c[:, 5] = 1\n",
    "    d_array = np.append(d_array, D(img, c).cpu().numpy()[0])"
   ]
  },
  {
   "cell_type": "code",
   "execution_count": 147,
   "id": "b601bbcb-ae97-4fdf-a593-79d7db140d52",
   "metadata": {},
   "outputs": [
    {
     "name": "stdout",
     "output_type": "stream",
     "text": [
      "[-0.6720438  -0.62957281 -0.95796245 -0.87510699 -0.43537685 -0.63005978\n",
      " -0.95415574 -0.73160899  0.33689258  0.04281749 -0.15546861 -0.57104427\n",
      " -0.46038973 -0.50884974 -0.68602306 -0.59358847 -0.72240102  0.02726357\n",
      "  0.33330679 -0.09254584 -0.2541362   0.42230842 -0.23233593 -0.67098582\n",
      " -0.42114994 -0.54224497 -1.2460351  -0.86778867 -0.53375322 -0.33080691\n",
      " -0.02260392 -0.14189111  0.49695307 -0.37513581 -0.57995582 -0.3023544\n",
      " -0.42118844 -0.51490748 -0.3105551  -0.77798212 -0.22703177 -0.67818958\n",
      " -1.03003895 -0.53340089 -0.78642923 -1.39160419 -0.68348157  0.4372862\n",
      " -0.82216084  0.06487411 -1.3597101  -0.64454371 -0.06306008 -0.91133612\n",
      " -0.98157042  0.24692978 -0.80173063 -0.0483285  -0.51209569 -1.30141628\n",
      " -0.97448283 -0.29308128  0.05263532 -0.53658551 -0.68242341 -0.02674106\n",
      " -0.68959695 -0.17025213 -0.52011299 -1.15011549 -0.41814452 -0.34191573\n",
      " -0.73772955 -0.11165205 -0.98279184 -0.95395589 -0.60372567 -0.39808583\n",
      " -0.48843119 -1.10297215 -0.68666089 -0.40340137 -0.06982995 -0.80669916\n",
      " -0.06180848 -0.7294085  -0.41387287 -0.6274479   0.03507855 -0.77551919\n",
      " -0.77612519 -1.00936449 -1.17385221 -1.42486608 -1.04722726 -0.02988928\n",
      " -0.97247678 -0.31950045 -0.38743025 -1.13599348]\n"
     ]
    }
   ],
   "source": [
    "d_array = d_array[1:]\n",
    "print(d_array)"
   ]
  },
  {
   "cell_type": "code",
   "execution_count": 148,
   "id": "16d0d8ef-7131-4d7b-8fb7-b87de16d8d2f",
   "metadata": {},
   "outputs": [],
   "source": [
    "def getRandomSamplesInNSphere(N , R , numberOfSamples):\n",
    "    # Return 'numberOfSamples' samples of vectors of dimension N \n",
    "    # with an uniform distribution inside the N-Sphere of radius R.\n",
    "    # RATIONALE: https://math.stackexchange.com/q/87238\n",
    "    \n",
    "    randomnessGenerator = np.random.default_rng()\n",
    "    \n",
    "    X = randomnessGenerator.normal(size=(numberOfSamples , N))\n",
    "    U = randomnessGenerator.random((numberOfSamples , 1)) \n",
    "    \n",
    "    return R * U**(1/N) / np.sqrt(np.sum(X**2, 1, keepdims=True)) * X"
   ]
  },
  {
   "cell_type": "code",
   "execution_count": 5,
   "id": "8b58be89-9726-450a-aec4-0c71f363622a",
   "metadata": {
    "execution": {
     "iopub.execute_input": "2023-07-19T05:14:59.404843Z",
     "iopub.status.busy": "2023-07-19T05:14:59.404227Z",
     "iopub.status.idle": "2023-07-19T05:14:59.410087Z",
     "shell.execute_reply": "2023-07-19T05:14:59.409618Z",
     "shell.execute_reply.started": "2023-07-19T05:14:59.404822Z"
    }
   },
   "outputs": [
    {
     "data": {
      "text/plain": [
       "(5, 10)"
      ]
     },
     "execution_count": 5,
     "metadata": {},
     "output_type": "execute_result"
    }
   ],
   "source": [
    "import numpy as np\n",
    "l = []\n",
    "\n",
    "for i in range(5):\n",
    "    z = np.random.RandomState(i).randn(1, 10) \n",
    "    l.append(z[0])\n",
    "\n",
    "z_array = np.asarray(l)\n",
    "z_array.shape"
   ]
  }
 ],
 "metadata": {
  "kernelspec": {
   "display_name": "Python 3 (ipykernel)",
   "language": "python",
   "name": "python3"
  },
  "language_info": {
   "codemirror_mode": {
    "name": "ipython",
    "version": 3
   },
   "file_extension": ".py",
   "mimetype": "text/x-python",
   "name": "python",
   "nbconvert_exporter": "python",
   "pygments_lexer": "ipython3",
   "version": "3.9.16"
  }
 },
 "nbformat": 4,
 "nbformat_minor": 5
}
